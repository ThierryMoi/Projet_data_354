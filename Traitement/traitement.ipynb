{
 "cells": [
  {
   "cell_type": "code",
   "execution_count": 1,
   "metadata": {},
   "outputs": [],
   "source": [
    "# chargement des biblioteque\n",
    "import pandas as pd\n",
    "import requests"
   ]
  },
  {
   "cell_type": "code",
   "execution_count": 37,
   "metadata": {},
   "outputs": [
    {
     "name": "stdout",
     "output_type": "stream",
     "text": [
      "                                            Abstract sentiment\n",
      "0  Scientists and spy agencies have tried to dete...   positif\n",
      "1  Did woke progressives cause the East Palestine...   négatif\n",
      "2  Did woke progressives cause the East Palestine...   négatif\n",
      "3  Scientists and spy agencies have tried to dete...   positif\n",
      "4  The ruling Communist Party is waging an ambiti...    neutre\n"
     ]
    }
   ],
   "source": [
    "import pandas as pd\n",
    "import nltk\n",
    "from nltk.sentiment import SentimentIntensityAnalyzer\n",
    "\n",
    "\n",
    "# Charger les données dans un DataFrame\n",
    "# requetage sur l'api afin d'avoir les donnees\n",
    "x = requests.get('http://localhost:8000/getdata',params = {})\n",
    "df = pd.DataFrame([v for d in x.json() for v in d.values()], columns=['Abstract'])\n",
    "\n",
    "# Instancier le module d'analyse des sentiments\n",
    "sia = SentimentIntensityAnalyzer()\n",
    "\n",
    "# Créer une fonction pour attribuer le sentiment à chaque texte\n",
    "def get_sentiment(text):\n",
    "    sentiment = sia.polarity_scores(text)\n",
    "    if sentiment['compound'] >= 0.05:\n",
    "        return 'positif'\n",
    "    elif sentiment['compound'] <= -0.05:\n",
    "        return 'négatif'\n",
    "    else:\n",
    "        return 'neutre'\n",
    "\n",
    "# Appliquer la fonction à chaque texte dans le DataFrame\n",
    "df['sentiment'] = df['Abstract'].apply(get_sentiment)\n",
    "\n",
    "# Voir les résultats\n",
    "print(df.head())"
   ]
  },
  {
   "cell_type": "code",
   "execution_count": null,
   "metadata": {},
   "outputs": [],
   "source": []
  }
 ],
 "metadata": {
  "kernelspec": {
   "display_name": "Python 3",
   "language": "python",
   "name": "python3"
  },
  "language_info": {
   "codemirror_mode": {
    "name": "ipython",
    "version": 3
   },
   "file_extension": ".py",
   "mimetype": "text/x-python",
   "name": "python",
   "nbconvert_exporter": "python",
   "pygments_lexer": "ipython3",
   "version": "3.10.0"
  },
  "orig_nbformat": 4,
  "vscode": {
   "interpreter": {
    "hash": "aee8b7b246df8f9039afb4144a1f6fd8d2ca17a180786b69acc140d282b71a49"
   }
  }
 },
 "nbformat": 4,
 "nbformat_minor": 2
}
